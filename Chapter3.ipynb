{
  "nbformat": 4,
  "nbformat_minor": 0,
  "metadata": {
    "colab": {
      "name": "Chapter3.ipynb",
      "provenance": [],
      "collapsed_sections": [],
      "authorship_tag": "ABX9TyNd0LgR5aOpymnkedz6cW22",
      "include_colab_link": true
    },
    "kernelspec": {
      "name": "python3",
      "display_name": "Python 3"
    }
  },
  "cells": [
    {
      "cell_type": "markdown",
      "metadata": {
        "id": "view-in-github",
        "colab_type": "text"
      },
      "source": [
        "<a href=\"https://colab.research.google.com/github/yeong35/Exercise_DeepLearningFromScratch/blob/master/Chapter3.ipynb\" target=\"_parent\"><img src=\"https://colab.research.google.com/assets/colab-badge.svg\" alt=\"Open In Colab\"/></a>"
      ]
    },
    {
      "cell_type": "code",
      "metadata": {
        "id": "omv9weZ1wT03"
      },
      "source": [
        "import numpy as np\r\n",
        "import matplotlib.pyplot as plt\r\n",
        "plt.style.use(\"seaborn-white\")"
      ],
      "execution_count": 11,
      "outputs": []
    },
    {
      "cell_type": "markdown",
      "metadata": {
        "id": "I8is7zicx5S3"
      },
      "source": [
        "<h1> 계단함수 </h1>"
      ]
    },
    {
      "cell_type": "code",
      "metadata": {
        "id": "THMJnRA1vxCo"
      },
      "source": [
        "# 실수(부동소수점)만 받는 함수\r\n",
        "def step_function(x):\r\n",
        "  if x>0:\r\n",
        "    return 1\r\n",
        "  else:\r\n",
        "    return 0"
      ],
      "execution_count": 12,
      "outputs": []
    },
    {
      "cell_type": "code",
      "metadata": {
        "id": "g9Nc6_SXv56b"
      },
      "source": [
        "# numpy도 받을 수 있는 함수\r\n",
        "def step_function(x):\r\n",
        "  y=x>0                     # boolean형으로 return. 0보다 크면 true, 아니면 false\r\n",
        "  return y.astype(np.int)   # true면 1, false면 0"
      ],
      "execution_count": 13,
      "outputs": []
    },
    {
      "cell_type": "code",
      "metadata": {
        "colab": {
          "base_uri": "https://localhost:8080/"
        },
        "id": "jOwUiWnZwWna",
        "outputId": "7e356840-0632-4b76-d41e-ae5ca0308fda"
      },
      "source": [
        "x = np.array([-1.0, 1.0, 2.0])\r\n",
        "x"
      ],
      "execution_count": 14,
      "outputs": [
        {
          "output_type": "execute_result",
          "data": {
            "text/plain": [
              "array([-1.,  1.,  2.])"
            ]
          },
          "metadata": {
            "tags": []
          },
          "execution_count": 14
        }
      ]
    },
    {
      "cell_type": "code",
      "metadata": {
        "colab": {
          "base_uri": "https://localhost:8080/"
        },
        "id": "MYpkVlC7wckX",
        "outputId": "5c2740ef-b687-42bb-8901-0e55d20192ef"
      },
      "source": [
        "y = x>0\r\n",
        "y"
      ],
      "execution_count": 15,
      "outputs": [
        {
          "output_type": "execute_result",
          "data": {
            "text/plain": [
              "array([False,  True,  True])"
            ]
          },
          "metadata": {
            "tags": []
          },
          "execution_count": 15
        }
      ]
    },
    {
      "cell_type": "code",
      "metadata": {
        "colab": {
          "base_uri": "https://localhost:8080/"
        },
        "id": "Ha5rC7sDwfbn",
        "outputId": "071ff675-c2c5-4d80-9ad5-4b9a737b80e7"
      },
      "source": [
        "step_function(x)"
      ],
      "execution_count": 16,
      "outputs": [
        {
          "output_type": "execute_result",
          "data": {
            "text/plain": [
              "array([0, 1, 1])"
            ]
          },
          "metadata": {
            "tags": []
          },
          "execution_count": 16
        }
      ]
    },
    {
      "cell_type": "code",
      "metadata": {
        "colab": {
          "base_uri": "https://localhost:8080/",
          "height": 262
        },
        "id": "tEBPLMB-wxJh",
        "outputId": "6acb35ed-b1af-4589-b2a8-05c07da9a729"
      },
      "source": [
        "x = np.arange(-5.0, 5.0, 0.1)\r\n",
        "y = step_function(x)\r\n",
        "plt.plot(x, y)\r\n",
        "plt.ylim(-0.1, 1.1)\r\n",
        "plt.show()"
      ],
      "execution_count": 17,
      "outputs": [
        {
          "output_type": "display_data",
          "data": {
            "image/png": "[encoded data removed]",
            "text/plain": [
              "<Figure size 432x288 with 1 Axes>"
            ]
          },
          "metadata": {
            "tags": []
          }
        }
      ]
    },
    {
      "cell_type": "markdown",
      "metadata": {
        "id": "BRAqRiT7yFIG"
      },
      "source": [
        "<h1> Sigmoid 함수 </h1>"
      ]
    },
    {
      "cell_type": "code",
      "metadata": {
        "id": "8tg2o452xDoz"
      },
      "source": [
        "def sigmoid(x):\r\n",
        "  return 1/ (1+np.exp(-x))"
      ],
      "execution_count": 18,
      "outputs": []
    },
    {
      "cell_type": "code",
      "metadata": {
        "colab": {
          "base_uri": "https://localhost:8080/"
        },
        "id": "4xg6A7x8yKdW",
        "outputId": "3173957c-2537-4362-e79e-e6c007b4e687"
      },
      "source": [
        "x = np.array([-1.0, 1.0, 2.0])\r\n",
        "sigmoid(x)"
      ],
      "execution_count": 19,
      "outputs": [
        {
          "output_type": "execute_result",
          "data": {
            "text/plain": [
              "array([0.26894142, 0.73105858, 0.88079708])"
            ]
          },
          "metadata": {
            "tags": []
          },
          "execution_count": 19
        }
      ]
    },
    {
      "cell_type": "code",
      "metadata": {
        "colab": {
          "base_uri": "https://localhost:8080/",
          "height": 262
        },
        "id": "sFhxzDIQyOgT",
        "outputId": "82b8e03e-7e16-466e-c15b-c5bc56353415"
      },
      "source": [
        "x = np.arange(-5.0, 5.0, 0.1)\r\n",
        "y = sigmoid(x)\r\n",
        "plt.plot(x, y)\r\n",
        "plt.ylim(-0.1, 1.1)\r\n",
        "plt.show()"
      ],
      "execution_count": 20,
      "outputs": [
        {
          "output_type": "display_data",
          "data": {
            "image/png": "[encoded data removed]",
            "text/plain": [
              "<Figure size 432x288 with 1 Axes>"
            ]
          },
          "metadata": {
            "tags": []
          }
        }
      ]
    },
    {
      "cell_type": "markdown",
      "metadata": {
        "id": "zZqCS3H6zr2w"
      },
      "source": [
        "<h1> ReLU 함수 </h1>"
      ]
    },
    {
      "cell_type": "code",
      "metadata": {
        "id": "ZRhWb7Xvya9t"
      },
      "source": [
        "\"\"\"\r\n",
        "maximum은 두 입력 값 중 더 큰 값을 선택함\r\n",
        "\"\"\"\r\n",
        "def ReLU(x):\r\n",
        "  return np.maximum(0, x)"
      ],
      "execution_count": 24,
      "outputs": []
    },
    {
      "cell_type": "code",
      "metadata": {
        "colab": {
          "base_uri": "https://localhost:8080/"
        },
        "id": "KoOKD3rCz5vP",
        "outputId": "5afa651d-be80-427f-8ab0-641f2d87ea95"
      },
      "source": [
        "x = np.array([-5.0, 5.0, 1.0])\r\n",
        "ReLU(x)"
      ],
      "execution_count": 26,
      "outputs": [
        {
          "output_type": "execute_result",
          "data": {
            "text/plain": [
              "array([0., 5., 1.])"
            ]
          },
          "metadata": {
            "tags": []
          },
          "execution_count": 26
        }
      ]
    },
    {
      "cell_type": "code",
      "metadata": {
        "colab": {
          "base_uri": "https://localhost:8080/",
          "height": 262
        },
        "id": "1mwRYpPy0Nst",
        "outputId": "af031ce7-00a2-4072-8d97-43febcd9ee15"
      },
      "source": [
        "x = np.arange(-5.0, 5.0, 0.1)\r\n",
        "y = ReLU(x)\r\n",
        "plt.plot(x, y)\r\n",
        "plt.ylim(-0.5, 5.1)\r\n",
        "plt.show()"
      ],
      "execution_count": 30,
      "outputs": [
        {
          "output_type": "display_data",
          "data": {
            "image/png": "[encoded data removed]",
            "text/plain": [
              "<Figure size 432x288 with 1 Axes>"
            ]
          },
          "metadata": {
            "tags": []
          }
        }
      ]
    },
    {
      "cell_type": "markdown",
      "metadata": {
        "id": "187rqz9Y38Zr"
      },
      "source": [
        "<h1>다차원 배열 계산</h1>"
      ]
    },
    {
      "cell_type": "code",
      "metadata": {
        "colab": {
          "base_uri": "https://localhost:8080/"
        },
        "id": "kDhinSBL0PP3",
        "outputId": "ca98b3f5-8bc4-4f24-8db7-ca044b9bdc05"
      },
      "source": [
        "A = np.array([1, 2, 3, 4])\r\n",
        "print(A)\r\n",
        "print()\r\n",
        "\r\n",
        "print(np.ndim(A))  # 배열의 차원 수\r\n",
        "print(A.shape)     # 배열의 크기(형상)\r\n",
        "print(A.shape[0])  # "
      ],
      "execution_count": 34,
      "outputs": [
        {
          "output_type": "stream",
          "text": [
            "[1 2 3 4]\n",
            "\n",
            "1\n",
            "(4,)\n",
            "4\n"
          ],
          "name": "stdout"
        }
      ]
    },
    {
      "cell_type": "code",
      "metadata": {
        "colab": {
          "base_uri": "https://localhost:8080/"
        },
        "id": "Hry9MsO94PQO",
        "outputId": "85f2392e-6728-47a6-8606-bedc56aff6e9"
      },
      "source": [
        "B = np.array([[1, 2], [3, 4], [5, 6]])\r\n",
        "print(B)\r\n",
        "print()\r\n",
        "\r\n",
        "print(np.ndim(B))\r\n",
        "print(B.shape)\r\n",
        "print(B.shape[0])\r\n",
        "print(B.shape[1])"
      ],
      "execution_count": 35,
      "outputs": [
        {
          "output_type": "stream",
          "text": [
            "[[1 2]\n",
            " [3 4]\n",
            " [5 6]]\n",
            "\n",
            "2\n",
            "(3, 2)\n",
            "3\n",
            "2\n"
          ],
          "name": "stdout"
        }
      ]
    },
    {
      "cell_type": "code",
      "metadata": {
        "colab": {
          "base_uri": "https://localhost:8080/"
        },
        "id": "EZ4ICxx84m95",
        "outputId": "90ce9f2b-a65a-4ff1-8447-594d3ca0a62f"
      },
      "source": [
        "A = np.array([[1, 2], [3, 4]])\r\n",
        "B = np.array([[5, 6], [7, 8]])\r\n",
        "\r\n",
        "print(\"A.shape = \", A.shape)\r\n",
        "print(\"B.shape = \", B.shape)\r\n",
        "np.dot(A,B)"
      ],
      "execution_count": 38,
      "outputs": [
        {
          "output_type": "stream",
          "text": [
            "A.shape =  (2, 2)\n",
            "B.shape =  (2, 2)\n"
          ],
          "name": "stdout"
        },
        {
          "output_type": "execute_result",
          "data": {
            "text/plain": [
              "array([[19, 22],\n",
              "       [43, 50]])"
            ]
          },
          "metadata": {
            "tags": []
          },
          "execution_count": 38
        }
      ]
    },
    {
      "cell_type": "code",
      "metadata": {
        "colab": {
          "base_uri": "https://localhost:8080/"
        },
        "id": "pe0aVQHu4x9G",
        "outputId": "4b980976-0b69-4cd2-c322-430c172a5cf9"
      },
      "source": [
        "X = np.array([1, 2])\r\n",
        "W = np.array([[1, 3, 4], [2, 4, 6]])\r\n",
        "\r\n",
        "Y = np.dot(X, W)\r\n",
        "print(Y)"
      ],
      "execution_count": 39,
      "outputs": [
        {
          "output_type": "stream",
          "text": [
            "[ 5 11 16]\n"
          ],
          "name": "stdout"
        }
      ]
    },
    {
      "cell_type": "code",
      "metadata": {
        "id": "nG874nKZ5Lva"
      },
      "source": [
        "# 네트워크 구현해보기\r\n",
        "def identity_function(a):\r\n",
        "  return a\r\n",
        "\r\n",
        "def softmax(a):\r\n",
        "  c = np.max(a)    \r\n",
        "  exp_a = np.exp(a-c) #overflow방지를 위해 c를 빼준다\r\n",
        "  sum_exp_a = np.sum(exp_a)\r\n",
        "  y = exp_a/sum_exp_a\r\n",
        "\r\n",
        "  return y\r\n",
        "\r\n",
        "def init_network():\r\n",
        "  network = {}\r\n",
        "  network['W1'] = np.array([[0.1, 0.3, 0.5], [ 0.2, 0.4, 0.6]])   # 1층\r\n",
        "  network['b1'] = np.array([0.1, 0.2, 0.3])                       \r\n",
        "  network['W2'] = np.array([[0.1, 0.4], [0.2, 0.5], [0.3, 0.6]])  # 2층\r\n",
        "  network['b2'] = np.array([0.1, 0.2])\r\n",
        "  network['W3'] = np.array([[0.1, 0.3], [0.2, 0.4]])              # 3층\r\n",
        "  network['b3'] = np.array([0.1, 0.2])\r\n",
        "\r\n",
        "  return network\r\n",
        "\r\n",
        "def forward(network, x):\r\n",
        "  W1, W2, W3 = network['W1'], network['W2'], network['W3']\r\n",
        "  b1, b2, b3 = network['b1'], network['b2'], network['b3']\r\n",
        "\r\n",
        "  a1 = np.dot(x, W1)+b1\r\n",
        "  z1 = sigmoid(a1)\r\n",
        "  a2 = np.dot(z1, W2)+b2\r\n",
        "  z2 = sigmoid(a2)\r\n",
        "  a3 = np.dot(z2, W3)+b3\r\n",
        "  y = identity_function(a3)\r\n",
        "  \r\n",
        "  return y"
      ],
      "execution_count": 48,
      "outputs": []
    },
    {
      "cell_type": "code",
      "metadata": {
        "colab": {
          "base_uri": "https://localhost:8080/"
        },
        "id": "8AwLEto379Kr",
        "outputId": "2ed417fe-d1b7-437f-da22-ae91297b68b3"
      },
      "source": [
        "network = init_network()\r\n",
        "\r\n",
        "x = np.array([1.0, 0.5])\r\n",
        "y = forward(network, x)\r\n",
        "print(y)"
      ],
      "execution_count": 46,
      "outputs": [
        {
          "output_type": "stream",
          "text": [
            "[0.31682708 0.69627909]\n"
          ],
          "name": "stdout"
        }
      ]
    }
  ]
}