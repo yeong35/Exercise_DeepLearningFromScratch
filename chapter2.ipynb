{
  "nbformat": 4,
  "nbformat_minor": 0,
  "metadata": {
    "colab": {
      "name": "chapter2.ipynb",
      "provenance": [],
      "collapsed_sections": []
    },
    "kernelspec": {
      "name": "python3",
      "display_name": "Python 3"
    }
  },
  "cells": [
    {
      "cell_type": "code",
      "metadata": {
        "id": "u9HxWXPcMrpr"
      },
      "source": [
        "# AND gate 구현하기!\r\n",
        "def AND(x1, x2):\r\n",
        "  w1, w2, theta = 0.5, 0.5, 0.7\r\n",
        "  tmp = x1*w1 + x2*w2\r\n",
        "  if tmp <= theta:\r\n",
        "    return 0\r\n",
        "  else :\r\n",
        "    return 1"
      ],
      "execution_count": 1,
      "outputs": []
    },
    {
      "cell_type": "code",
      "metadata": {
        "colab": {
          "base_uri": "https://localhost:8080/"
        },
        "id": "lrrnJDlIOR7E",
        "outputId": "a2cea4e5-d0c4-400f-d21f-7cf0972c1886"
      },
      "source": [
        "#AND gate 결과\r\n",
        "print(AND(0, 0))\r\n",
        "print(AND(0, 1))\r\n",
        "print(AND(1, 0))\r\n",
        "print(AND(1, 1))"
      ],
      "execution_count": 6,
      "outputs": [
        {
          "output_type": "stream",
          "text": [
            "0\n",
            "0\n",
            "0\n",
            "1\n"
          ],
          "name": "stdout"
        }
      ]
    },
    {
      "cell_type": "code",
      "metadata": {
        "colab": {
          "base_uri": "https://localhost:8080/"
        },
        "id": "NEin9IklOalg",
        "outputId": "235f1b9e-969f-4fe8-f5ae-1ae5e4757de0"
      },
      "source": [
        "\"\"\"넘파이를 이용해서 구현해보자!\"\"\"\r\n",
        "\r\n",
        "import numpy as np\r\n",
        "x = np.array([0, 1])\r\n",
        "w = np.array([0.5, 0.5])\r\n",
        "b = -0.7\r\n",
        "print(w*x)            \r\n",
        "print(np.sum(w*x))    #행렬곱\r\n",
        "print(np.sum(w*x)+b)  #행렬곱에 편차를 더해주자. 부동소수점으로 인해 아래처럼 나옴"
      ],
      "execution_count": 9,
      "outputs": [
        {
          "output_type": "stream",
          "text": [
            "[0.  0.5]\n",
            "0.5\n",
            "-0.19999999999999996\n"
          ],
          "name": "stdout"
        }
      ]
    },
    {
      "cell_type": "code",
      "metadata": {
        "id": "JHpmGAbmPf0B"
      },
      "source": [
        "# 위에서 만든 def AND를 numpy를 이용해서 만들어보자!\r\n",
        "def AND(x1, x2):\r\n",
        "  x = np.array([x1, x2])\r\n",
        "  w = np.array([0.5, 0.5])\r\n",
        "  b = -0.7\r\n",
        "  tmp = np.sum(w*x)+b\r\n",
        "  if tmp<=0:\r\n",
        "    return 0\r\n",
        "  else:\r\n",
        "    return 1"
      ],
      "execution_count": 10,
      "outputs": []
    },
    {
      "cell_type": "code",
      "metadata": {
        "id": "XOHtDZaDO8kH"
      },
      "source": [
        "#NAND gate\r\n",
        "def NAND(x1, x2):\r\n",
        "  x = np.array([x1, x2])\r\n",
        "  w = np.array([-0.5, -0.5])\r\n",
        "  b = 0.7\r\n",
        "  tmp = np.sum(w*x)+b\r\n",
        "  if tmp<=0:\r\n",
        "    return 0\r\n",
        "  else:\r\n",
        "    return 1"
      ],
      "execution_count": 11,
      "outputs": []
    },
    {
      "cell_type": "code",
      "metadata": {
        "id": "ai6i9zv5QKhh"
      },
      "source": [
        "#NAND gate\r\n",
        "def OR(x1, x2):\r\n",
        "  x = np.array([x1, x2])\r\n",
        "  w = np.array([0.8, 0.8])\r\n",
        "  b = -0.7\r\n",
        "  tmp = np.sum(w*x)+b\r\n",
        "  if tmp<=0:\r\n",
        "    return 0\r\n",
        "  else:\r\n",
        "    return 1"
      ],
      "execution_count": 13,
      "outputs": []
    },
    {
      "cell_type": "code",
      "metadata": {
        "id": "nB6vY8deQQLA"
      },
      "source": [
        "#XOR gate\r\n",
        "def XOR(x1, x2):\r\n",
        "  s1 = NAND(x1, x2)\r\n",
        "  s2 = OR(x1, x2)\r\n",
        "  y = AND(s1, s2)\r\n",
        "  return y"
      ],
      "execution_count": 14,
      "outputs": []
    },
    {
      "cell_type": "code",
      "metadata": {
        "colab": {
          "base_uri": "https://localhost:8080/"
        },
        "id": "EAuX7aZuQeOG",
        "outputId": "0e58f6e1-1ad1-4221-8ef2-3a29b97bd5d5"
      },
      "source": [
        "#XOR gate 결과\r\n",
        "print(XOR(0, 0))\r\n",
        "print(XOR(0, 1))\r\n",
        "print(XOR(1, 0))\r\n",
        "print(XOR(1, 1))"
      ],
      "execution_count": 15,
      "outputs": [
        {
          "output_type": "stream",
          "text": [
            "0\n",
            "1\n",
            "1\n",
            "0\n"
          ],
          "name": "stdout"
        }
      ]
    }
  ]
}